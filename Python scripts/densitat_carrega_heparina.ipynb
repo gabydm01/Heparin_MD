{
 "cells": [
  {
   "cell_type": "markdown",
   "metadata": {},
   "source": [
    "### This code calculates the linear charge density and the Manning-Oosawa parameter"
   ]
  },
  {
   "cell_type": "code",
   "execution_count": 1,
   "metadata": {},
   "outputs": [
    {
     "name": "stdout",
     "output_type": "stream",
     "text": [
      "The distance L is 8.681\n",
      "The charge density of a monomer of heparin is -0.461\n",
      "The distance per charge is 4.341 Å\n",
      "The Bjerrum length is 6.963 Å\n",
      "The Manning-Oosawa parameter is 1.604 > 1/|z_i*z_h|\n",
      "The bound 1/|z_i*z_h| is 0.500 for Na and 0.250 for Mg\n"
     ]
    }
   ],
   "source": [
    "import numpy as np\n",
    "import matplotlib.pyplot as plt\n",
    "\n",
    "\n",
    "# Centers of mass of two rings in heparin. Data collected from psf file\n",
    "# cm1 = np.array([0.48498958349227905, 1.1933618783950806, 0.5105636119842529])\n",
    "# cm2 = np.array([5.4774065017700195, 1.1518213748931885, 0.21279621124267578])\n",
    "\n",
    "# coordinates of the oxygen atom in the extremes of the heparin monomer. Data collected from pdb file\n",
    "o1 = np.array([7.672,   0.901,  -0.138])\n",
    "o2 = np.array([-0.626,   0.297,   2.341])\n",
    "# charge of each heparin ring\n",
    "z_h = -2\n",
    "\n",
    "# length of the monomer in Å (from the first ring to the oxygen atom at the end)\n",
    "L = np.linalg.norm(o1-o2)\n",
    "\n",
    "\n",
    "\n",
    "# number of negative charge units (rings) in one monomer of heparin\n",
    "N = 2\n",
    "\n",
    "# distance per charge unit\n",
    "b = L/N\n",
    "\n",
    "# linear charge density of a heparin monomer in e units\n",
    "dens = z_h/b\n",
    "\n",
    "\n",
    "\n",
    "# charge of mobile ions (Na,Mg)\n",
    "z_i = np.array([1,2])\n",
    "\n",
    "# values for the bound of the Manning-Oosawa parameter\n",
    "upper = 1/(z_i*np.abs(z_h))\n",
    "\n",
    "\n",
    "# parameters to calculate the Bjerrum length\n",
    "e = 1.602176634e-19\n",
    "eps_0 = 8.8541878176e-12\n",
    "eps_r = 80\n",
    "T = 300\n",
    "k = 1.380649e-23\n",
    "\n",
    "# Bjerrum length in Å\n",
    "l_B = e**2/(4*np.pi*eps_0*eps_r*k*T)*1e10\n",
    "\n",
    "# Manning-Osawa parameter\n",
    "xi = l_B/b\n",
    "# Mf = 1-1/xi\n",
    "# print(l_B/L)\n",
    "print(\"The distance L is {:.3f}\".format(L))\n",
    "print( \"The charge density of a monomer of heparin is {:.3f}\".format(dens))\n",
    "print(\"The distance per charge is {:.3f} Å\".format(b))\n",
    "print(\"The Bjerrum length is {:.3f} Å\".format(l_B))\n",
    "print(\"The Manning-Oosawa parameter is {:.3f} > 1/|z_i*z_h|\".format(xi))\n",
    "print(\"The bound 1/|z_i*z_h| is {:.3f} for Na and {:.3f} for Mg\".format(upper[0],upper[1]))\n",
    "# print(\"The fraction of counterions that remains with the polyion is 1-1/xi={:.4f}\".format(Mf))"
   ]
  }
 ],
 "metadata": {
  "kernelspec": {
   "display_name": "python",
   "language": "python",
   "name": "python3"
  },
  "language_info": {
   "codemirror_mode": {
    "name": "ipython",
    "version": 3
   },
   "file_extension": ".py",
   "mimetype": "text/x-python",
   "name": "python",
   "nbconvert_exporter": "python",
   "pygments_lexer": "ipython3",
   "version": "3.11.2"
  }
 },
 "nbformat": 4,
 "nbformat_minor": 2
}
